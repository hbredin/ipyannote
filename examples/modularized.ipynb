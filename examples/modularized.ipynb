{
 "cells": [
  {
   "cell_type": "code",
   "execution_count": null,
   "id": "718f1a86-8bf7-4614-bd11-16fdc599840c",
   "metadata": {
    "tags": []
   },
   "outputs": [],
   "source": [
    "%load_ext autoreload\n",
    "%autoreload 2\n",
    "from ipyannote import Waveform, Labels, Controls\n",
    "from ipywidgets import Output, link, VBox, HBox, Layout\n",
    "import anywidget\n",
    "import traitlets\n",
    "import numpy as np\n",
    "from pathlib import Path"
   ]
  },
  {
   "cell_type": "markdown",
   "id": "78ecf5f4-c2e0-4d1d-9223-5d2d3c3c151d",
   "metadata": {},
   "source": [
    "# Modularized widget\n",
    "\n",
    "The cell below demonstrates an example of linking together Waveform, Labels and Controls widgets."
   ]
  },
  {
   "cell_type": "code",
   "execution_count": null,
   "id": "08223c44-261d-44fc-941e-03eb21c23495",
   "metadata": {
    "tags": []
   },
   "outputs": [],
   "source": [
    "waveform = Waveform('sample.wav')\n",
    "labels = Labels(\n",
    "    labels = ['A', 'B', 'C']\n",
    ")\n",
    "controls = Controls()\n",
    "\n",
    "# links to labels\n",
    "link((labels, 'labels'), (waveform, 'labels'))\n",
    "link((labels, 'colors'), (waveform, 'colors'))\n",
    "link((labels, 'selected_label'), (waveform, 'selected_label'))\n",
    "def handle_create_label(_, content, buffers):\n",
    "    if content == 'create_label':\n",
    "        labels.send('create_label')\n",
    "waveform.on_msg(handle_create_label)\n",
    "\n",
    "# links to controls\n",
    "link((controls, 'zoom'), (waveform, 'zoom'))\n",
    "link((controls, 'playing'), (waveform, 'playing'))"
   ]
  },
  {
   "cell_type": "code",
   "execution_count": null,
   "id": "92204d2a-9705-42eb-9b98-5f4e77f44a91",
   "metadata": {},
   "outputs": [],
   "source": [
    "VBox([\n",
    "    waveform,\n",
    "    labels,\n",
    "    controls\n",
    "])"
   ]
  },
  {
   "cell_type": "markdown",
   "id": "34c5130a-3c57-4d7f-a762-597a2b4e6e65",
   "metadata": {},
   "source": [
    "## Alternative layouts\n",
    "\n",
    "One thing I noticed so far is that the `Waveform` absolutely hates not knowing its width. This hangs the browser tab:\n",
    "\n",
    "```\n",
    "HBox([waveform])\n",
    "```\n",
    "\n",
    "So in order to use a `HBox` we need to put the `Waveform` into a `VBox` with a width or something like that."
   ]
  },
  {
   "cell_type": "code",
   "execution_count": null,
   "id": "c6d76b44-23d8-464f-ac5c-767c9c3b7d69",
   "metadata": {
    "tags": []
   },
   "outputs": [],
   "source": [
    "HBox([\n",
    "    VBox([waveform], layout=Layout(width='800px')),\n",
    "    VBox([\n",
    "        labels,\n",
    "        controls\n",
    "    ])\n",
    "])"
   ]
  },
  {
   "cell_type": "markdown",
   "id": "95d3e9cc-e84e-4397-a2ea-7d7c2dd4db0c",
   "metadata": {},
   "source": [
    "## Multiple waveforms, same labels"
   ]
  },
  {
   "cell_type": "code",
   "execution_count": null,
   "id": "3bfcb90e-a4d5-4db2-b124-201b6e6cd2bb",
   "metadata": {},
   "outputs": [],
   "source": [
    "waveformA = Waveform('sample.wav')\n",
    "waveformB = Waveform('sample.wav')\n",
    "labels = Labels(\n",
    "    labels = ['A', 'B', 'C']\n",
    ")\n",
    "controls = Controls()\n",
    "\n",
    "# links to labels\n",
    "link((labels, 'labels'), (waveformA, 'labels'))\n",
    "link((labels, 'colors'), (waveformA, 'colors'))\n",
    "link((labels, 'selected_label'), (waveformA, 'selected_label'))\n",
    "def handle_create_label(_, content, buffers):\n",
    "    if content == 'create_label':\n",
    "        labels.send('create_label')\n",
    "waveformA.on_msg(handle_create_label)\n",
    "\n",
    "link((labels, 'labels'), (waveformB, 'labels'))\n",
    "link((labels, 'colors'), (waveformB, 'colors'))\n",
    "link((labels, 'selected_label'), (waveformB, 'selected_label'))\n",
    "waveformB.on_msg(handle_create_label)\n",
    "\n",
    "# links to controls\n",
    "link((controls, 'zoom'), (waveformA, 'zoom'))\n",
    "link((controls, 'playing'), (waveformA, 'playing'))\n",
    "\n",
    "link((controls, 'zoom'), (waveformB, 'zoom'))\n",
    "link((controls, 'playing'), (waveformB, 'playing'))"
   ]
  },
  {
   "cell_type": "code",
   "execution_count": null,
   "id": "ceaacd80-5cd1-4aaa-b2b1-a2c1dcf69a2e",
   "metadata": {
    "tags": []
   },
   "outputs": [],
   "source": [
    "HBox([\n",
    "    VBox([\n",
    "        waveformA, \n",
    "        waveformB\n",
    "    ], layout=Layout(width='800px')\n",
    "    ),\n",
    "    VBox([\n",
    "        labels,\n",
    "        controls\n",
    "    ])\n",
    "])"
   ]
  },
  {
   "cell_type": "code",
   "execution_count": null,
   "id": "36b4cc68-f247-46f0-9372-2a54cd621ce6",
   "metadata": {},
   "outputs": [],
   "source": []
  },
  {
   "cell_type": "code",
   "execution_count": null,
   "id": "a43cc674-aa55-4fc4-970b-e4494ea3b1fe",
   "metadata": {},
   "outputs": [],
   "source": []
  }
 ],
 "metadata": {
  "kernelspec": {
   "display_name": "Python 3 (ipykernel)",
   "language": "python",
   "name": "python3"
  },
  "language_info": {
   "codemirror_mode": {
    "name": "ipython",
    "version": 3
   },
   "file_extension": ".py",
   "mimetype": "text/x-python",
   "name": "python",
   "nbconvert_exporter": "python",
   "pygments_lexer": "ipython3",
   "version": "3.10.8"
  }
 },
 "nbformat": 4,
 "nbformat_minor": 5
}
